{
 "cells": [
  {
   "cell_type": "code",
   "execution_count": null,
   "metadata": {
    "collapsed": true
   },
   "outputs": [],
   "source": [
    "作業1：\n",
    "Day1 Homework 作業\n",
    "請上 Kaggle, 在 Competitions 或 Dataset 中找⼀組競賽或資料並寫下\n",
    "1. 你選的這組資料為何重要\n",
    "2. 資料從何⽽來 (tips: 如提供者是誰、以什麼方式蒐集)\n",
    "3. 蒐集而來的資料型態為何\n",
    "4. 這組資料想解決的問題如何評估\n",
    "\n",
    "Dataset:\n",
    "NBA Injuries from 2010-2018 (Analyze Injuries in the NBA)\n",
    "https://www.kaggle.com/ghopkins/nba-injuries-2010-2018\n",
    "\n",
    "Ans 1:\n",
    "運動傷害對於每位運動選手而言，可以說是一件非常嚴重的事。可能受傷一次，日後的訓練都會受到影響。許多選手也是因為運動傷害造成自己在體育 生涯有所阻礙。但是受傷以後，如果能夠完善的復健以及細心照顧患部，或許還有機會保持水準，體育選手們依舊能夠在運動場上馳騁。\n",
    "分析運動傷害後平均多久才會復出。在相同運動傷害分析再次受傷的機率，或是分析一直重複運動傷害是否跟球員本身動作相關。某項運動傷害是否會造成其他運動傷害機率增加。\n",
    "\n",
    "我們使用Derrick Rose當例子\n",
    "主要原因有三：\n",
    "1, 落地的壞習慣與打球風格\n",
    "2, 舊傷使得本能上把降落重心放在左腳\n",
    "3, 膝蓋外翻,受力不對\n",
    "https://www.ptt.cc/bbs/NBA/M.1505653478.A.D74.html\n",
    "https://painandtraining.blogspot.com/2017/09/9-derrick-rose.html\n",
    "https://www.ptt.cc/bbs/NBA/M.1452671233.A.A2A.html\n",
    "\n",
    "\n",
    "Ans 2:\n",
    "數據來自專業運動交易網站-Pro Sports Transactions網站（prosportstransactions.com）。\n",
    "\n",
    "Ans 3:\n",
    "結構化資料(Data Sources : injuries.csv)，裡面有日期、球隊名稱、球員名稱、運動傷害細節(受傷部位、復出)\n",
    "\n",
    "Ans 4:\n",
    "過去5個賽季哪支隊伍受傷最多？ 統計類型(球隊名稱)\n",
    "特定球員有哪些類型的傷病持續？ 運動傷害類型、復出時間：迴歸 (Mean Squared Error, MSE)\n",
    "哪種類型的傷害往往是直到賽季結束？ 受傷時間、復出時間、傷害延伸：迴歸 (Mean Squared Error, MSE)\n",
    "\n",
    "========================================================================================================================================\n",
    "作業2：\n",
    "想像你經營一個自由載客車隊，你希望能透過數據分析以提升業績，請你思考並描述你如何規劃整體的分析/解決方案：\n",
    "\n",
    "1. 核心問題為何 (tips：如何定義 「提升業績 & 你的假設」)\n",
    "2. 資料從何而來 (tips：哪些資料可能會對你想問的問題產生影響 & 資料如何蒐集)\n",
    "3. 蒐集而來的資料型態為何\n",
    "4. 你要回答的問題，其如何評估 (tips：你的假設如何驗證)\n",
    "\n",
    "Ans 1:\n",
    "為什麼要搭乘? 什麼時候需要搭乘?\n",
    "是否提供搭乘折價券?\n",
    "\n",
    "Ans 2:\n",
    "會使用像是Uber的系統，可以紀錄乘客上下車的紀錄，包含乘客基本資料、日期、乘車起點/終點、車程時間等等\n",
    "\n",
    "Ans 3:\n",
    "結構化資料\n",
    "\n",
    "Ans 4:\n",
    "透過乘客搭乘地點與時間來分析乘客需要搭車的時機，舉例：KTV(夜唱)、熱炒店(晚餐後時段)等等\n",
    "乘客搭乘一定時間或里程就提供折價券，分析使用折價券乘客資料，是否會因為有折價券而持續搭乘\n",
    "\n",
    "\n"
   ]
  }
 ],
 "metadata": {
  "kernelspec": {
   "display_name": "Python 3",
   "language": "python",
   "name": "python3"
  },
  "language_info": {
   "codemirror_mode": {
    "name": "ipython",
    "version": 3
   },
   "file_extension": ".py",
   "mimetype": "text/x-python",
   "name": "python",
   "nbconvert_exporter": "python",
   "pygments_lexer": "ipython3",
   "version": "3.6.3"
  }
 },
 "nbformat": 4,
 "nbformat_minor": 2
}
